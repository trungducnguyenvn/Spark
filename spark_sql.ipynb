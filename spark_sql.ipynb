{
 "cells": [
  {
   "cell_type": "code",
   "execution_count": 13,
   "metadata": {},
   "outputs": [],
   "source": [
    "import pyspark\n",
    "from pyspark.sql import SparkSession\n",
    "from pyspark.sql import functions as F"
   ]
  },
  {
   "cell_type": "code",
   "execution_count": 2,
   "metadata": {},
   "outputs": [
    {
     "name": "stdout",
     "output_type": "stream",
     "text": [
      "23/06/01 13:42:28 WARN Utils: Your hostname, Nguyen-Duc-Trung resolves to a loopback address: 127.0.1.1; using 192.168.130.52 instead (on interface eth0)\n",
      "23/06/01 13:42:28 WARN Utils: Set SPARK_LOCAL_IP if you need to bind to another address\n"
     ]
    },
    {
     "name": "stderr",
     "output_type": "stream",
     "text": [
      "Setting default log level to \"WARN\".\n",
      "To adjust logging level use sc.setLogLevel(newLevel). For SparkR, use setLogLevel(newLevel).\n"
     ]
    },
    {
     "name": "stdout",
     "output_type": "stream",
     "text": [
      "23/06/01 13:42:30 WARN NativeCodeLoader: Unable to load native-hadoop library for your platform... using builtin-java classes where applicable\n"
     ]
    }
   ],
   "source": [
    "spark = SparkSession.builder \\\n",
    "    .master(\"local[*]\") \\\n",
    "    .appName('Spark_sql') \\\n",
    "    .getOrCreate()"
   ]
  },
  {
   "cell_type": "code",
   "execution_count": 3,
   "metadata": {},
   "outputs": [],
   "source": [
    "df_green = spark.read.parquet('../data/green/*.parquet')"
   ]
  },
  {
   "cell_type": "code",
   "execution_count": 4,
   "metadata": {},
   "outputs": [
    {
     "name": "stdout",
     "output_type": "stream",
     "text": [
      "root\n",
      " |-- VendorID: long (nullable = true)\n",
      " |-- lpep_pickup_datetime: timestamp (nullable = true)\n",
      " |-- lpep_dropoff_datetime: timestamp (nullable = true)\n",
      " |-- store_and_fwd_flag: string (nullable = true)\n",
      " |-- RatecodeID: double (nullable = true)\n",
      " |-- PULocationID: long (nullable = true)\n",
      " |-- DOLocationID: long (nullable = true)\n",
      " |-- passenger_count: double (nullable = true)\n",
      " |-- trip_distance: double (nullable = true)\n",
      " |-- fare_amount: double (nullable = true)\n",
      " |-- extra: double (nullable = true)\n",
      " |-- mta_tax: double (nullable = true)\n",
      " |-- tip_amount: double (nullable = true)\n",
      " |-- tolls_amount: double (nullable = true)\n",
      " |-- ehail_fee: integer (nullable = true)\n",
      " |-- improvement_surcharge: double (nullable = true)\n",
      " |-- total_amount: double (nullable = true)\n",
      " |-- payment_type: double (nullable = true)\n",
      " |-- trip_type: double (nullable = true)\n",
      " |-- congestion_surcharge: double (nullable = true)\n",
      "\n"
     ]
    }
   ],
   "source": [
    "df_green.printSchema()"
   ]
  },
  {
   "cell_type": "code",
   "execution_count": 5,
   "metadata": {},
   "outputs": [
    {
     "name": "stdout",
     "output_type": "stream",
     "text": [
      "+--------+--------------------+---------------------+------------------+----------+------------+------------+---------------+-------------+-----------+-----+-------+----------+------------+---------+---------------------+------------+------------+---------+--------------------+\n",
      "|VendorID|lpep_pickup_datetime|lpep_dropoff_datetime|store_and_fwd_flag|RatecodeID|PULocationID|DOLocationID|passenger_count|trip_distance|fare_amount|extra|mta_tax|tip_amount|tolls_amount|ehail_fee|improvement_surcharge|total_amount|payment_type|trip_type|congestion_surcharge|\n",
      "+--------+--------------------+---------------------+------------------+----------+------------+------------+---------------+-------------+-----------+-----+-------+----------+------------+---------+---------------------+------------+------------+---------+--------------------+\n",
      "|       1| 2022-03-01 07:24:14|  2022-03-01 07:34:04|                 N|       1.0|          74|         151|            1.0|          2.3|        9.5|  0.5|    0.5|       0.0|         0.0|     null|                  0.3|        10.8|         2.0|      1.0|                 0.0|\n",
      "|       2| 2022-03-01 06:39:24|  2022-03-01 06:47:03|                 N|       1.0|          75|         151|            1.0|         1.31|        7.5|  0.5|    0.5|       1.0|         0.0|     null|                  0.3|         9.8|         1.0|      1.0|                 0.0|\n",
      "|       2| 2022-03-01 06:55:30|  2022-03-01 07:09:32|                 N|       1.0|         166|          42|            1.0|         2.31|       11.5|  0.5|    0.5|       0.0|         0.0|     null|                  0.3|        12.8|         1.0|      1.0|                 0.0|\n",
      "|       2| 2022-03-01 07:24:55|  2022-03-01 07:33:06|                 N|       1.0|          82|         173|            1.0|         1.58|        8.0|  0.5|    0.5|       0.0|         0.0|     null|                  0.3|         9.3|         2.0|      1.0|                 0.0|\n",
      "|       2| 2022-03-01 07:23:33|  2022-03-01 07:30:08|                 N|       1.0|         127|         243|            1.0|         1.52|        7.0|  0.5|    0.5|      2.08|         0.0|     null|                  0.3|       10.38|         1.0|      1.0|                 0.0|\n",
      "+--------+--------------------+---------------------+------------------+----------+------------+------------+---------------+-------------+-----------+-----+-------+----------+------------+---------+---------------------+------------+------------+---------+--------------------+\n",
      "only showing top 5 rows\n",
      "\n"
     ]
    }
   ],
   "source": [
    "df_green.show(5)"
   ]
  },
  {
   "cell_type": "code",
   "execution_count": 6,
   "metadata": {},
   "outputs": [
    {
     "name": "stdout",
     "output_type": "stream",
     "text": [
      "root\n",
      " |-- VendorID: long (nullable = true)\n",
      " |-- tpep_pickup_datetime: timestamp (nullable = true)\n",
      " |-- tpep_dropoff_datetime: timestamp (nullable = true)\n",
      " |-- passenger_count: double (nullable = true)\n",
      " |-- trip_distance: double (nullable = true)\n",
      " |-- RatecodeID: double (nullable = true)\n",
      " |-- store_and_fwd_flag: string (nullable = true)\n",
      " |-- PULocationID: long (nullable = true)\n",
      " |-- DOLocationID: long (nullable = true)\n",
      " |-- payment_type: long (nullable = true)\n",
      " |-- fare_amount: double (nullable = true)\n",
      " |-- extra: double (nullable = true)\n",
      " |-- mta_tax: double (nullable = true)\n",
      " |-- tip_amount: double (nullable = true)\n",
      " |-- tolls_amount: double (nullable = true)\n",
      " |-- improvement_surcharge: double (nullable = true)\n",
      " |-- total_amount: double (nullable = true)\n",
      " |-- congestion_surcharge: double (nullable = true)\n",
      " |-- airport_fee: double (nullable = true)\n",
      "\n"
     ]
    }
   ],
   "source": [
    "df_yellow = spark.read.parquet('../data/yellow/*.parquet')\n",
    "df_yellow.printSchema()"
   ]
  },
  {
   "cell_type": "code",
   "execution_count": 7,
   "metadata": {},
   "outputs": [],
   "source": [
    "#Change the column names : pickup_datetime, dropoff_datetime for the same columns in both dataframes \n",
    "df_green = df_green \\\n",
    "        .withColumnRenamed(\"lpep_pickup_datetime\", \"pickup_datetime\") \\\n",
    "        .withColumnRenamed(\"lpep_dropoff_datetime\", \"dropoff_datetime\")\n",
    "\n",
    "df_yellow = df_yellow \\\n",
    "        .withColumnRenamed(\"tpep_pickup_datetime\", \"pickup_datetime\") \\\n",
    "        .withColumnRenamed(\"tpep_dropoff_datetime\", \"dropoff_datetime\")\n"
   ]
  },
  {
   "cell_type": "code",
   "execution_count": 12,
   "metadata": {},
   "outputs": [
    {
     "data": {
      "text/plain": [
       "(20, 19)"
      ]
     },
     "execution_count": 12,
     "metadata": {},
     "output_type": "execute_result"
    }
   ],
   "source": [
    "len(df_green.columns), len(df_yellow.columns)"
   ]
  },
  {
   "cell_type": "code",
   "execution_count": 15,
   "metadata": {},
   "outputs": [
    {
     "data": {
      "text/plain": [
       "{'ehail_fee', 'trip_type'}"
      ]
     },
     "execution_count": 15,
     "metadata": {},
     "output_type": "execute_result"
    }
   ],
   "source": [
    "#find which columns are different\n",
    "set(df_green.columns) - set(df_yellow.columns)"
   ]
  },
  {
   "cell_type": "code",
   "execution_count": 16,
   "metadata": {},
   "outputs": [
    {
     "name": "stdout",
     "output_type": "stream",
     "text": [
      "+---------+---------+\n",
      "|ehail_fee|trip_type|\n",
      "+---------+---------+\n",
      "|     null|     null|\n",
      "|     null|      1.0|\n",
      "|     null|      2.0|\n",
      "+---------+---------+\n",
      "\n"
     ]
    }
   ],
   "source": [
    "df_green.select('ehail_fee','trip_type').distinct().show()"
   ]
  },
  {
   "cell_type": "code",
   "execution_count": 17,
   "metadata": {},
   "outputs": [
    {
     "data": {
      "text/plain": [
       "{'airport_fee'}"
      ]
     },
     "execution_count": 17,
     "metadata": {},
     "output_type": "execute_result"
    }
   ],
   "source": [
    "set(df_yellow.columns) - set(df_green.columns)"
   ]
  },
  {
   "cell_type": "code",
   "execution_count": 18,
   "metadata": {},
   "outputs": [
    {
     "name": "stdout",
     "output_type": "stream",
     "text": [
      "+-----------+\n",
      "|airport_fee|\n",
      "+-----------+\n",
      "|        0.0|\n",
      "|       1.25|\n",
      "|       null|\n",
      "|      -1.25|\n",
      "|        0.5|\n",
      "+-----------+\n",
      "\n"
     ]
    }
   ],
   "source": [
    "df_yellow.select('airport_fee').distinct().show()"
   ]
  },
  {
   "cell_type": "code",
   "execution_count": 19,
   "metadata": {},
   "outputs": [],
   "source": [
    "#Check the common columns between the two dataframes    \n",
    "set(df_green.columns).intersection(set(df_yellow.columns))\n",
    "\n",
    "#create a list of common columns\n",
    "common_columns = list(set(df_green.columns).intersection(set(df_yellow.columns)))"
   ]
  },
  {
   "cell_type": "code",
   "execution_count": 20,
   "metadata": {},
   "outputs": [],
   "source": [
    "#Add a new column to each dataframe to identify the company (yellow or green) : name column as service type\n",
    "df_green_sel = df_green \\\n",
    "        .select(common_columns) \\\n",
    "        .withColumn('service_type', F.lit('green'))\n",
    "\n",
    "df_yellow_sel = df_yellow \\\n",
    "        .select(common_columns) \\\n",
    "        .withColumn('service_type', F.lit('yellow'))"
   ]
  },
  {
   "cell_type": "code",
   "execution_count": 24,
   "metadata": {},
   "outputs": [],
   "source": [
    "#Combine the two dataframes into one\n",
    "df_trips = df_green_sel.union(df_yellow_sel)"
   ]
  },
  {
   "cell_type": "code",
   "execution_count": 25,
   "metadata": {},
   "outputs": [],
   "source": [
    "#Combine by uniall and compare two new dataframes\n",
    "df_trips_data = df_green_sel.unionAll(df_yellow_sel)"
   ]
  },
  {
   "cell_type": "code",
   "execution_count": 26,
   "metadata": {},
   "outputs": [
    {
     "data": {
      "text/plain": [
       "(36821089, 36821089)"
      ]
     },
     "execution_count": 26,
     "metadata": {},
     "output_type": "execute_result"
    }
   ],
   "source": [
    "df_trips.count(), df_trips_data.count()"
   ]
  },
  {
   "cell_type": "code",
   "execution_count": 27,
   "metadata": {},
   "outputs": [
    {
     "name": "stderr",
     "output_type": "stream",
     "text": [
      "[Stage 19:====================================>                  (20 + 10) / 30]\r"
     ]
    },
    {
     "name": "stdout",
     "output_type": "stream",
     "text": [
      "+------------+--------+\n",
      "|service_type|   count|\n",
      "+------------+--------+\n",
      "|       green|  840402|\n",
      "|      yellow|35980687|\n",
      "+------------+--------+\n",
      "\n"
     ]
    },
    {
     "name": "stderr",
     "output_type": "stream",
     "text": [
      "                                                                                \r"
     ]
    }
   ],
   "source": [
    "#Count the numbers of rows for each service type\n",
    "df_trips.groupBy('service_type').count().show()"
   ]
  },
  {
   "cell_type": "code",
   "execution_count": 28,
   "metadata": {},
   "outputs": [],
   "source": [
    "#Create temporary view for the dataframe df_trips in order to use SQL queries\n",
    "df_trips.createOrReplaceTempView(\"trips_data\")"
   ]
  },
  {
   "cell_type": "code",
   "execution_count": 29,
   "metadata": {},
   "outputs": [
    {
     "name": "stderr",
     "output_type": "stream",
     "text": [
      "[Stage 22:==================================>                    (19 + 11) / 30]\r"
     ]
    },
    {
     "name": "stdout",
     "output_type": "stream",
     "text": [
      "+------------+--------+\n",
      "|service_type|   count|\n",
      "+------------+--------+\n",
      "|       green|  840402|\n",
      "|      yellow|35980687|\n",
      "+------------+--------+\n",
      "\n"
     ]
    },
    {
     "name": "stderr",
     "output_type": "stream",
     "text": [
      "                                                                                \r"
     ]
    }
   ],
   "source": [
    "spark.sql(\"SELECT service_type, count(*) as count FROM trips_data GROUP BY service_type\").show()"
   ]
  },
  {
   "cell_type": "code",
   "execution_count": 30,
   "metadata": {},
   "outputs": [
    {
     "name": "stdout",
     "output_type": "stream",
     "text": [
      "+--------------------+---------+-------+\n",
      "|            col_name|data_type|comment|\n",
      "+--------------------+---------+-------+\n",
      "|        PULocationID|   bigint|   null|\n",
      "|          tip_amount|   double|   null|\n",
      "|     pickup_datetime|timestamp|   null|\n",
      "|        tolls_amount|   double|   null|\n",
      "|  store_and_fwd_flag|   string|   null|\n",
      "|    dropoff_datetime|timestamp|   null|\n",
      "|improvement_surch...|   double|   null|\n",
      "|congestion_surcharge|   double|   null|\n",
      "|             mta_tax|   double|   null|\n",
      "|               extra|   double|   null|\n",
      "|       trip_distance|   double|   null|\n",
      "|        DOLocationID|   bigint|   null|\n",
      "|        payment_type|   double|   null|\n",
      "|     passenger_count|   double|   null|\n",
      "|         fare_amount|   double|   null|\n",
      "|        total_amount|   double|   null|\n",
      "|          RatecodeID|   double|   null|\n",
      "|            VendorID|   bigint|   null|\n",
      "|        service_type|   string|   null|\n",
      "+--------------------+---------+-------+\n",
      "\n"
     ]
    }
   ],
   "source": [
    "spark.sql(\"Describe trips_data\").show()"
   ]
  },
  {
   "cell_type": "code",
   "execution_count": 31,
   "metadata": {},
   "outputs": [],
   "source": [
    "df_result = spark.sql(\"\"\"\n",
    "SELECT \n",
    "    -- Reveneue grouping \n",
    "    PULocationID AS revenue_zone, -- Rename PULocationID column to revenue_zone\n",
    "    date_trunc('month', pickup_datetime) AS revenue_month, -- Truncate pickup_datetime to month level\n",
    "    service_type, \n",
    "\n",
    "    -- Revenue calculation \n",
    "    SUM(fare_amount) AS revenue_monthly_fare, -- Calculate monthly fare revenue\n",
    "    SUM(extra) AS revenue_monthly_extra, -- Calculate monthly extra revenue\n",
    "    SUM(mta_tax) AS revenue_monthly_mta_tax, -- Calculate monthly MTA tax revenue\n",
    "    SUM(tip_amount) AS revenue_monthly_tip_amount, -- Calculate monthly tip revenue\n",
    "    SUM(tolls_amount) AS revenue_monthly_tolls_amount, -- Calculate monthly tolls revenue\n",
    "    SUM(improvement_surcharge) AS revenue_monthly_improvement_surcharge, -- Calculate monthly improvement surcharge revenue\n",
    "    SUM(total_amount) AS revenue_monthly_total_amount, -- Calculate monthly total revenue\n",
    "    SUM(congestion_surcharge) AS revenue_monthly_congestion_surcharge, -- Calculate monthly congestion surcharge revenue\n",
    "\n",
    "    -- Additional calculations\n",
    "    AVG(passenger_count) AS avg_montly_passenger_count, -- Calculate average monthly passenger count\n",
    "    AVG(trip_distance) AS avg_montly_trip_distance -- Calculate average monthly trip distance\n",
    "FROM\n",
    "    trips_data -- Select data from trips_data\n",
    "GROUP BY\n",
    "    1, 2, 3 -- Group results by revenue_zone, revenue_month, and service_type\n",
    "\"\"\")"
   ]
  },
  {
   "cell_type": "code",
   "execution_count": 33,
   "metadata": {},
   "outputs": [
    {
     "name": "stderr",
     "output_type": "stream",
     "text": [
      "[Stage 28:======================================================> (29 + 1) / 30]\r"
     ]
    },
    {
     "name": "stdout",
     "output_type": "stream",
     "text": [
      "+------------+-------------------+------------+--------------------+---------------------+-----------------------+--------------------------+----------------------------+-------------------------------------+----------------------------+------------------------------------+--------------------------+------------------------+\n",
      "|revenue_zone|      revenue_month|service_type|revenue_monthly_fare|revenue_monthly_extra|revenue_monthly_mta_tax|revenue_monthly_tip_amount|revenue_monthly_tolls_amount|revenue_monthly_improvement_surcharge|revenue_monthly_total_amount|revenue_monthly_congestion_surcharge|avg_montly_passenger_count|avg_montly_trip_distance|\n",
      "+------------+-------------------+------------+--------------------+---------------------+-----------------------+--------------------------+----------------------------+-------------------------------------+----------------------------+------------------------------------+--------------------------+------------------------+\n",
      "|          92|2022-03-01 00:00:00|       green|  10481.759999999997|               103.25|                  158.0|         553.1500000000001|           85.14999999999998|                   128.99999999999915|          11529.559999999978|                                22.0|        1.1036144578313254|       4.199930394431554|\n",
      "|         265|2022-03-01 00:00:00|       green|  2289.0099999999998|                  7.5|                   19.5|                    285.62|                       63.45|                    18.00000000000002|                     2688.58|                                 5.5|        1.3442622950819672|       6.339843749999999|\n",
      "|         255|2022-03-01 00:00:00|       green|   6080.540000000002|                85.75|                   91.0|        1082.3599999999997|          45.849999999999994|                   102.59999999999938|           7773.300000000009|                               159.5|         1.312169312169312|       76.61125364431483|\n",
      "|         177|2022-03-01 00:00:00|       green|  1391.9499999999996|                  4.0|                   16.0|                     75.05|                        13.1|                   19.800000000000026|          1530.8999999999994|                                 0.0|        1.1025641025641026|      2.9292424242424238|\n",
      "|          25|2022-04-01 00:00:00|       green|  13025.689999999995|               204.25|                  289.0|        1979.5500000000006|                        64.8|                     233.100000000003|          16172.489999999976|                               220.0|        1.2694214876033059|      3.4840153452685403|\n",
      "|         234|2022-03-01 00:00:00|       green|               86.99|                  0.0|                    0.0|                     19.82|                        6.55|                                  0.6|          119.46000000000001|                                null|                      null|                   15.54|\n",
      "|         244|2022-03-01 00:00:00|       green|   48637.00000000001|               1251.5|                 1145.5|         7439.550000000018|           781.6999999999991|                    777.5999999999749|           62960.80000000114|                              3008.5|        1.3019189765458423|       57.81201764480245|\n",
      "|          15|2022-03-01 00:00:00|       green|  395.04999999999995|                  0.0|                    2.0|                       3.4|                         0.0|                   2.6999999999999997|                      403.15|                                 0.0|                       2.1|      2.3607692307692307|\n",
      "|         260|2022-02-01 00:00:00|       green|  11198.720000000003|               272.25|                  328.5|        1274.2899999999995|                       136.2|                    230.1000000000029|          13561.059999999943|                              118.25|        1.4899057873485868|      3.2829533678756495|\n",
      "|          39|2022-03-01 00:00:00|       green|   2057.390000000001|                  3.5|                   21.5|                     14.57|           98.24999999999997|                   16.500000000000018|           2211.709999999999|                                 0.0|                       1.1|       1.188181818181818|\n",
      "|         116|2022-03-01 00:00:00|       green|  17817.969999999976|               308.75|                  476.0|         2319.409999999999|           301.8500000000002|                    361.8000000000079|          22400.729999999796|                              734.25|         1.304480651731161|      248.73544407894727|\n",
      "|         226|2022-03-01 00:00:00|       green|             6132.52|                105.5|                  138.5|         571.5999999999999|          104.79999999999997|                   114.89999999999927|            7345.82000000003|                               148.5|        1.1661237785016287|      466.19650259067384|\n",
      "|         173|2022-03-01 00:00:00|       green|             1979.88|                34.75|                   57.0|                      90.8|                        26.2|                                 37.5|          2228.8799999999987|                                 5.5|        1.1023622047244095|       3.446538461538461|\n",
      "|         182|2022-04-01 00:00:00|       green|   685.4699999999999|                 5.75|                   10.0|         77.81000000000002|                        39.3|                   10.800000000000004|                      831.88|                                2.75|        1.3548387096774193|      2.2741666666666664|\n",
      "|         217|2022-03-01 00:00:00|       green|              514.76|                  2.5|                    8.0|        28.819999999999997|                         0.0|                    6.599999999999998|           566.1800000000001|                                 5.5|        1.0909090909090908|                    3.11|\n",
      "|          42|2022-03-01 00:00:00|       green|  41679.460000000196|               815.75|                 1291.0|         4441.110000000001|           660.3999999999996|                    976.7999999999444|           51619.96999999992|                             1311.75|        1.2016278209396967|      121.09135821352096|\n",
      "|         145|2022-04-01 00:00:00|       green|   3281.669999999999|                53.25|                  100.0|        436.86000000000007|           72.04999999999998|                    83.39999999999958|           4106.980000000006|                               41.25|        1.0909090909090908|        2.31457746478873|\n",
      "|          71|2022-04-01 00:00:00|       green|   947.0299999999996|                  2.5|                    8.5|                     31.97|          28.650000000000002|                   11.700000000000006|          1030.3500000000004|                                 0.0|        1.3333333333333333|       3.576666666666667|\n",
      "|         175|2022-03-01 00:00:00|       green|               107.7|                  0.0|                    1.0|                      6.46|                         0.0|                   0.8999999999999999|                      116.06|                                 0.0|        1.3333333333333333|      3.9166666666666665|\n",
      "|          36|2022-04-01 00:00:00|       green|  1843.8999999999996|                 18.0|                   15.0|        329.30999999999995|                        6.55|                   27.000000000000043|                     2291.01|                               13.75|                       1.5|      1670.2207777777778|\n",
      "+------------+-------------------+------------+--------------------+---------------------+-----------------------+--------------------------+----------------------------+-------------------------------------+----------------------------+------------------------------------+--------------------------+------------------------+\n",
      "only showing top 20 rows\n",
      "\n"
     ]
    },
    {
     "name": "stderr",
     "output_type": "stream",
     "text": [
      "                                                                                \r"
     ]
    }
   ],
   "source": [
    "df_result.show()"
   ]
  },
  {
   "cell_type": "code",
   "execution_count": 34,
   "metadata": {},
   "outputs": [
    {
     "data": {
      "text/plain": [
       "pyspark.sql.dataframe.DataFrame"
      ]
     },
     "execution_count": 34,
     "metadata": {},
     "output_type": "execute_result"
    }
   ],
   "source": [
    "type(df_result)"
   ]
  },
  {
   "cell_type": "code",
   "execution_count": 35,
   "metadata": {},
   "outputs": [
    {
     "name": "stderr",
     "output_type": "stream",
     "text": [
      "                                                                                \r"
     ]
    }
   ],
   "source": [
    "df_result.write.parquet('../data/report/revenue-2022/')"
   ]
  },
  {
   "cell_type": "code",
   "execution_count": 36,
   "metadata": {},
   "outputs": [],
   "source": [
    "data_trips = spark.read.parquet('../data/report/revenue-2022/')"
   ]
  },
  {
   "cell_type": "code",
   "execution_count": 37,
   "metadata": {},
   "outputs": [
    {
     "name": "stdout",
     "output_type": "stream",
     "text": [
      "root\n",
      " |-- revenue_zone: long (nullable = true)\n",
      " |-- revenue_month: timestamp (nullable = true)\n",
      " |-- service_type: string (nullable = true)\n",
      " |-- revenue_monthly_fare: double (nullable = true)\n",
      " |-- revenue_monthly_extra: double (nullable = true)\n",
      " |-- revenue_monthly_mta_tax: double (nullable = true)\n",
      " |-- revenue_monthly_tip_amount: double (nullable = true)\n",
      " |-- revenue_monthly_tolls_amount: double (nullable = true)\n",
      " |-- revenue_monthly_improvement_surcharge: double (nullable = true)\n",
      " |-- revenue_monthly_total_amount: double (nullable = true)\n",
      " |-- revenue_monthly_congestion_surcharge: double (nullable = true)\n",
      " |-- avg_montly_passenger_count: double (nullable = true)\n",
      " |-- avg_montly_trip_distance: double (nullable = true)\n",
      "\n"
     ]
    }
   ],
   "source": [
    "data_trips.printSchema()"
   ]
  },
  {
   "cell_type": "code",
   "execution_count": 38,
   "metadata": {},
   "outputs": [
    {
     "name": "stdout",
     "output_type": "stream",
     "text": [
      "+------------+---------------------------------+\n",
      "|service_type|sum(revenue_monthly_total_amount)|\n",
      "+------------+---------------------------------+\n",
      "|       green|             1.6238446400000075E7|\n",
      "|      yellow|              7.776290886601588E8|\n",
      "+------------+---------------------------------+\n",
      "\n"
     ]
    }
   ],
   "source": [
    "#Check the revenue with the service type green and yellow\n",
    "data_trips.groupBy('service_type').sum('revenue_monthly_total_amount').show()"
   ]
  },
  {
   "cell_type": "code",
   "execution_count": 41,
   "metadata": {},
   "outputs": [
    {
     "name": "stdout",
     "output_type": "stream",
     "text": [
      "+------------+--------------+\n",
      "|service_type|       revenue|\n",
      "+------------+--------------+\n",
      "|       green|  1.62384464E7|\n",
      "|      yellow|7.7762908866E8|\n",
      "+------------+--------------+\n",
      "\n"
     ]
    }
   ],
   "source": [
    "#Check the revenue with the service type green and yellow with sql query\n",
    "data_trips.createOrReplaceTempView(\"trips_data\")\n",
    "\n",
    "spark.sql(\"SELECT service_type, round(sum(revenue_monthly_total_amount),2) as revenue FROM trips_data GROUP BY service_type\").show()"
   ]
  },
  {
   "cell_type": "code",
   "execution_count": 46,
   "metadata": {},
   "outputs": [
    {
     "name": "stdout",
     "output_type": "stream",
     "text": [
      "+------------+-------------------+----------+\n",
      "|service_type|      revenue_month|   revenue|\n",
      "+------------+-------------------+----------+\n",
      "|       green|2022-01-01 00:00:00|1080941.04|\n",
      "|       green|2022-02-01 00:00:00| 1234238.7|\n",
      "|       green|2022-03-01 00:00:00|1431190.96|\n",
      "|       green|2022-04-01 00:00:00|1428324.72|\n",
      "|       green|2022-05-01 00:00:00|1511832.43|\n",
      "|       green|2022-06-01 00:00:00| 1460743.9|\n",
      "|       green|2022-07-01 00:00:00|1264161.54|\n",
      "|       green|2022-08-01 00:00:00| 1308519.8|\n",
      "|       green|2022-09-01 00:00:00| 1437858.2|\n",
      "|       green|2022-10-01 00:00:00|1362377.95|\n",
      "|       green|2022-11-01 00:00:00|1179966.96|\n",
      "|       green|2022-12-01 00:00:00|1516182.29|\n",
      "|       green|2023-01-01 00:00:00|  21994.45|\n",
      "+------------+-------------------+----------+\n",
      "\n"
     ]
    }
   ],
   "source": [
    "#Check the revenue of each month with the service type green in sql query\n",
    "spark.sql(\"\"\"\n",
    "SELECT\n",
    "    service_type,\n",
    "    date_trunc('month', revenue_month) AS revenue_month,\n",
    "    round(sum(revenue_monthly_total_amount),2) as revenue\n",
    "FROM    \n",
    "    trips_data\n",
    "WHERE \n",
    "    service_type = 'green' and revenue_month > '2019-12-31'\n",
    "GROUP BY\n",
    "    1, 2\n",
    "ORDER BY\n",
    "    2\"\"\").show()\n"
   ]
  }
 ],
 "metadata": {
  "kernelspec": {
   "display_name": "Python 3 (ipykernel)",
   "language": "python",
   "name": "python3"
  },
  "language_info": {
   "codemirror_mode": {
    "name": "ipython",
    "version": 3
   },
   "file_extension": ".py",
   "mimetype": "text/x-python",
   "name": "python",
   "nbconvert_exporter": "python",
   "pygments_lexer": "ipython3",
   "version": "3.10.6"
  },
  "orig_nbformat": 4
 },
 "nbformat": 4,
 "nbformat_minor": 2
}
