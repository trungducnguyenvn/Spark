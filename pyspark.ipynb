{
 "cells": [
  {
   "cell_type": "code",
   "execution_count": 1,
   "id": "09e45053-024b-4faf-812c-93a79a91178e",
   "metadata": {},
   "outputs": [],
   "source": [
    "import pyspark\n",
    "from pyspark.sql import SparkSession"
   ]
  },
  {
   "cell_type": "code",
   "execution_count": 2,
   "id": "35f0775a-cf4b-4d44-bd6d-a1ba0fe488ab",
   "metadata": {},
   "outputs": [
    {
     "name": "stdout",
     "output_type": "stream",
     "text": [
      "23/05/24 14:39:01 WARN Utils: Your hostname, Nguyen-Duc-Trung resolves to a loopback address: 127.0.1.1; using 192.168.130.52 instead (on interface eth0)\n",
      "23/05/24 14:39:01 WARN Utils: Set SPARK_LOCAL_IP if you need to bind to another address\n"
     ]
    },
    {
     "name": "stderr",
     "output_type": "stream",
     "text": [
      "Setting default log level to \"WARN\".\n",
      "To adjust logging level use sc.setLogLevel(newLevel). For SparkR, use setLogLevel(newLevel).\n"
     ]
    },
    {
     "name": "stdout",
     "output_type": "stream",
     "text": [
      "23/05/24 14:39:02 WARN NativeCodeLoader: Unable to load native-hadoop library for your platform... using builtin-java classes where applicable\n"
     ]
    }
   ],
   "source": [
    "spark = SparkSession.builder \\\n",
    "    .master(\"local[*]\") \\\n",
    "    .appName('test') \\\n",
    "    .getOrCreate()"
   ]
  },
  {
   "cell_type": "code",
   "execution_count": 3,
   "id": "8ffddca3-f0f1-4bd7-b336-0f7251c7462e",
   "metadata": {},
   "outputs": [],
   "source": [
    "df = spark.read.option(\"header\", \"true\").parquet(\"../data/yellow_tripdata_2022-01.parquet\")"
   ]
  },
  {
   "cell_type": "code",
   "execution_count": 4,
   "id": "b36cacc4-9b65-4987-901f-9e698483fb59",
   "metadata": {},
   "outputs": [
    {
     "name": "stdout",
     "output_type": "stream",
     "text": [
      "+--------+--------------------+---------------------+---------------+-------------+----------+------------------+------------+------------+------------+-----------+-----+-------+----------+------------+---------------------+------------+--------------------+-----------+\n",
      "|VendorID|tpep_pickup_datetime|tpep_dropoff_datetime|passenger_count|trip_distance|RatecodeID|store_and_fwd_flag|PULocationID|DOLocationID|payment_type|fare_amount|extra|mta_tax|tip_amount|tolls_amount|improvement_surcharge|total_amount|congestion_surcharge|airport_fee|\n",
      "+--------+--------------------+---------------------+---------------+-------------+----------+------------------+------------+------------+------------+-----------+-----+-------+----------+------------+---------------------+------------+--------------------+-----------+\n",
      "|       1| 2022-01-01 07:35:40|  2022-01-01 07:53:29|            2.0|          3.8|       1.0|                 N|         142|         236|           1|       14.5|  3.0|    0.5|      3.65|         0.0|                  0.3|       21.95|                 2.5|        0.0|\n",
      "|       1| 2022-01-01 07:33:43|  2022-01-01 07:42:07|            1.0|          2.1|       1.0|                 N|         236|          42|           1|        8.0|  0.5|    0.5|       4.0|         0.0|                  0.3|        13.3|                 0.0|        0.0|\n",
      "|       2| 2022-01-01 07:53:21|  2022-01-01 08:02:19|            1.0|         0.97|       1.0|                 N|         166|         166|           1|        7.5|  0.5|    0.5|      1.76|         0.0|                  0.3|       10.56|                 0.0|        0.0|\n",
      "|       2| 2022-01-01 07:25:21|  2022-01-01 07:35:23|            1.0|         1.09|       1.0|                 N|         114|          68|           2|        8.0|  0.5|    0.5|       0.0|         0.0|                  0.3|        11.8|                 2.5|        0.0|\n",
      "|       2| 2022-01-01 07:36:48|  2022-01-01 08:14:20|            1.0|          4.3|       1.0|                 N|          68|         163|           1|       23.5|  0.5|    0.5|       3.0|         0.0|                  0.3|        30.3|                 2.5|        0.0|\n",
      "|       1| 2022-01-01 07:40:15|  2022-01-01 08:09:48|            1.0|         10.3|       1.0|                 N|         138|         161|           1|       33.0|  3.0|    0.5|      13.0|        6.55|                  0.3|       56.35|                 2.5|        0.0|\n",
      "|       2| 2022-01-01 07:20:50|  2022-01-01 07:34:58|            1.0|         5.07|       1.0|                 N|         233|          87|           1|       17.0|  0.5|    0.5|       5.2|         0.0|                  0.3|        26.0|                 2.5|        0.0|\n",
      "|       2| 2022-01-01 07:13:04|  2022-01-01 07:22:45|            1.0|         2.02|       1.0|                 N|         238|         152|           2|        9.0|  0.5|    0.5|       0.0|         0.0|                  0.3|        12.8|                 2.5|        0.0|\n",
      "|       2| 2022-01-01 07:30:02|  2022-01-01 07:44:49|            1.0|         2.71|       1.0|                 N|         166|         236|           1|       12.0|  0.5|    0.5|      2.25|         0.0|                  0.3|       18.05|                 2.5|        0.0|\n",
      "|       2| 2022-01-01 07:48:52|  2022-01-01 07:53:28|            1.0|         0.78|       1.0|                 N|         236|         141|           2|        5.0|  0.5|    0.5|       0.0|         0.0|                  0.3|         8.8|                 2.5|        0.0|\n",
      "|       2| 2022-01-01 07:55:03|  2022-01-01 08:04:25|            1.0|         1.91|       1.0|                 N|         141|         229|           2|        8.5|  0.5|    0.5|       0.0|         0.0|                  0.3|        12.3|                 2.5|        0.0|\n",
      "|       2| 2022-01-01 07:31:06|  2022-01-01 07:34:14|            3.0|         0.82|       1.0|                 N|         114|          90|           2|        4.5|  0.5|    0.5|       0.0|         0.0|                  0.3|         8.3|                 2.5|        0.0|\n",
      "|       2| 2022-01-01 07:41:07|  2022-01-01 07:44:46|            3.0|         0.73|       1.0|                 N|         234|         113|           2|        4.5|  0.5|    0.5|       0.0|         0.0|                  0.3|         8.3|                 2.5|        0.0|\n",
      "|       2| 2022-01-01 07:56:34|  2022-01-01 08:12:04|            2.0|         2.16|       1.0|                 N|         246|          79|           1|       11.5|  0.5|    0.5|      3.06|         0.0|                  0.3|       18.36|                 2.5|        0.0|\n",
      "|       2| 2022-01-01 07:39:46|  2022-01-01 07:47:36|            4.0|         1.43|       1.0|                 N|          43|         140|           1|        7.5|  0.5|    0.5|      2.26|         0.0|                  0.3|       13.56|                 2.5|        0.0|\n",
      "|       2| 2022-01-01 07:58:06|  2022-01-01 08:05:45|            1.0|         1.58|       1.0|                 N|         239|         151|           2|        8.0|  0.5|    0.5|       0.0|         0.0|                  0.3|        11.8|                 2.5|        0.0|\n",
      "|       1| 2022-01-01 07:33:52|  2022-01-01 07:47:28|            3.0|          4.2|       1.0|                 N|         148|         141|           1|       14.0|  2.5|    0.5|      3.45|         0.0|                  0.3|       20.75|                 2.5|        0.0|\n",
      "|       1| 2022-01-01 07:53:54|  2022-01-01 08:05:20|            2.0|          2.2|       1.0|                 N|         237|         107|           1|        9.5|  2.5|    0.5|      2.55|         0.0|                  0.3|       15.35|                 2.5|        0.0|\n",
      "|       1| 2022-01-01 07:00:44|  2022-01-01 07:05:29|            1.0|          0.2|       1.0|                 N|           7|           7|           2|        5.0|  0.5|    0.5|       0.0|         0.0|                  0.3|         6.3|                 0.0|        0.0|\n",
      "|       1| 2022-01-01 07:35:50|  2022-01-01 07:48:33|            2.0|          3.9|       1.0|                 N|         107|         263|           1|       13.0|  3.0|    0.5|      3.35|         0.0|                  0.3|       20.15|                 2.5|        0.0|\n",
      "+--------+--------------------+---------------------+---------------+-------------+----------+------------------+------------+------------+------------+-----------+-----+-------+----------+------------+---------------------+------------+--------------------+-----------+\n",
      "only showing top 20 rows\n",
      "\n"
     ]
    }
   ],
   "source": [
    "df.show()"
   ]
  },
  {
   "cell_type": "code",
   "execution_count": 5,
   "id": "70fa36ee",
   "metadata": {},
   "outputs": [
    {
     "name": "stdout",
     "output_type": "stream",
     "text": [
      "(2463931, 19)\n"
     ]
    }
   ],
   "source": [
    "#Check shape of the dataframe\n",
    "print((df.count(), len(df.columns)))"
   ]
  },
  {
   "cell_type": "code",
   "execution_count": 30,
   "id": "250ec865-c34d-4cdb-972a-c7089eb8a5a2",
   "metadata": {},
   "outputs": [
    {
     "name": "stdout",
     "output_type": "stream",
     "text": [
      "122909 ../data/yellow_tripdata_2022-01.parquet\n"
     ]
    }
   ],
   "source": [
    "!wc -l ../data/yellow_tripdata_2022-01.parquet"
   ]
  },
  {
   "cell_type": "code",
   "execution_count": 6,
   "id": "0e47d178-cb0f-4647-96f1-57510878bff7",
   "metadata": {},
   "outputs": [
    {
     "name": "stdout",
     "output_type": "stream",
     "text": [
      "root\n",
      " |-- VendorID: long (nullable = true)\n",
      " |-- tpep_pickup_datetime: timestamp (nullable = true)\n",
      " |-- tpep_dropoff_datetime: timestamp (nullable = true)\n",
      " |-- passenger_count: double (nullable = true)\n",
      " |-- trip_distance: double (nullable = true)\n",
      " |-- RatecodeID: double (nullable = true)\n",
      " |-- store_and_fwd_flag: string (nullable = true)\n",
      " |-- PULocationID: long (nullable = true)\n",
      " |-- DOLocationID: long (nullable = true)\n",
      " |-- payment_type: long (nullable = true)\n",
      " |-- fare_amount: double (nullable = true)\n",
      " |-- extra: double (nullable = true)\n",
      " |-- mta_tax: double (nullable = true)\n",
      " |-- tip_amount: double (nullable = true)\n",
      " |-- tolls_amount: double (nullable = true)\n",
      " |-- improvement_surcharge: double (nullable = true)\n",
      " |-- total_amount: double (nullable = true)\n",
      " |-- congestion_surcharge: double (nullable = true)\n",
      " |-- airport_fee: double (nullable = true)\n",
      "\n"
     ]
    }
   ],
   "source": [
    "df.printSchema()"
   ]
  },
  {
   "cell_type": "code",
   "execution_count": 32,
   "id": "3664aa89-c774-41bf-9b92-29f15c07504d",
   "metadata": {},
   "outputs": [
    {
     "data": {
      "text/plain": [
       "pyspark.sql.dataframe.DataFrame"
      ]
     },
     "execution_count": 32,
     "metadata": {},
     "output_type": "execute_result"
    }
   ],
   "source": [
    "type(df)"
   ]
  },
  {
   "cell_type": "code",
   "execution_count": 33,
   "id": "5984641e-a651-4c2b-850c-76f2152652a7",
   "metadata": {},
   "outputs": [
    {
     "data": {
      "text/plain": [
       "[Row(VendorID=1, tpep_pickup_datetime=datetime.datetime(2022, 1, 1, 7, 35, 40), tpep_dropoff_datetime=datetime.datetime(2022, 1, 1, 7, 53, 29), passenger_count=2.0, trip_distance=3.8, RatecodeID=1.0, store_and_fwd_flag='N', PULocationID=142, DOLocationID=236, payment_type=1, fare_amount=14.5, extra=3.0, mta_tax=0.5, tip_amount=3.65, tolls_amount=0.0, improvement_surcharge=0.3, total_amount=21.95, congestion_surcharge=2.5, airport_fee=0.0),\n",
       " Row(VendorID=1, tpep_pickup_datetime=datetime.datetime(2022, 1, 1, 7, 33, 43), tpep_dropoff_datetime=datetime.datetime(2022, 1, 1, 7, 42, 7), passenger_count=1.0, trip_distance=2.1, RatecodeID=1.0, store_and_fwd_flag='N', PULocationID=236, DOLocationID=42, payment_type=1, fare_amount=8.0, extra=0.5, mta_tax=0.5, tip_amount=4.0, tolls_amount=0.0, improvement_surcharge=0.3, total_amount=13.3, congestion_surcharge=0.0, airport_fee=0.0),\n",
       " Row(VendorID=2, tpep_pickup_datetime=datetime.datetime(2022, 1, 1, 7, 53, 21), tpep_dropoff_datetime=datetime.datetime(2022, 1, 1, 8, 2, 19), passenger_count=1.0, trip_distance=0.97, RatecodeID=1.0, store_and_fwd_flag='N', PULocationID=166, DOLocationID=166, payment_type=1, fare_amount=7.5, extra=0.5, mta_tax=0.5, tip_amount=1.76, tolls_amount=0.0, improvement_surcharge=0.3, total_amount=10.56, congestion_surcharge=0.0, airport_fee=0.0),\n",
       " Row(VendorID=2, tpep_pickup_datetime=datetime.datetime(2022, 1, 1, 7, 25, 21), tpep_dropoff_datetime=datetime.datetime(2022, 1, 1, 7, 35, 23), passenger_count=1.0, trip_distance=1.09, RatecodeID=1.0, store_and_fwd_flag='N', PULocationID=114, DOLocationID=68, payment_type=2, fare_amount=8.0, extra=0.5, mta_tax=0.5, tip_amount=0.0, tolls_amount=0.0, improvement_surcharge=0.3, total_amount=11.8, congestion_surcharge=2.5, airport_fee=0.0),\n",
       " Row(VendorID=2, tpep_pickup_datetime=datetime.datetime(2022, 1, 1, 7, 36, 48), tpep_dropoff_datetime=datetime.datetime(2022, 1, 1, 8, 14, 20), passenger_count=1.0, trip_distance=4.3, RatecodeID=1.0, store_and_fwd_flag='N', PULocationID=68, DOLocationID=163, payment_type=1, fare_amount=23.5, extra=0.5, mta_tax=0.5, tip_amount=3.0, tolls_amount=0.0, improvement_surcharge=0.3, total_amount=30.3, congestion_surcharge=2.5, airport_fee=0.0)]"
      ]
     },
     "execution_count": 33,
     "metadata": {},
     "output_type": "execute_result"
    }
   ],
   "source": [
    "df.head(5)"
   ]
  },
  {
   "cell_type": "code",
   "execution_count": 7,
   "id": "03ae5e63-7bfc-4fb0-8938-0440a5e2d80b",
   "metadata": {},
   "outputs": [],
   "source": [
    "#Repartition the dataframe to 10 partitions\n",
    "df = df.repartition(10)\n"
   ]
  },
  {
   "cell_type": "code",
   "execution_count": 8,
   "id": "408b8937-0b13-451e-a417-c275ef6dd5a0",
   "metadata": {},
   "outputs": [
    {
     "name": "stderr",
     "output_type": "stream",
     "text": [
      "[Stage 6:====================================================>     (9 + 1) / 10]\r"
     ]
    },
    {
     "data": {
      "text/plain": [
       "10"
      ]
     },
     "execution_count": 8,
     "metadata": {},
     "output_type": "execute_result"
    }
   ],
   "source": [
    "#Check the number of partitions\n",
    "df.rdd.getNumPartitions()"
   ]
  },
  {
   "cell_type": "code",
   "execution_count": 37,
   "id": "c2fad4f5-5bc2-479b-85af-8a66c560df3b",
   "metadata": {},
   "outputs": [
    {
     "name": "stderr",
     "output_type": "stream",
     "text": [
      "                                                                                \r"
     ]
    },
    {
     "data": {
      "text/plain": [
       "[246393,\n",
       " 246393,\n",
       " 246393,\n",
       " 246393,\n",
       " 246394,\n",
       " 246393,\n",
       " 246393,\n",
       " 246393,\n",
       " 246393,\n",
       " 246393]"
      ]
     },
     "execution_count": 37,
     "metadata": {},
     "output_type": "execute_result"
    }
   ],
   "source": [
    "#Check the size of each partition\n",
    "df.rdd.glom().map(len).collect()\n",
    "\n"
   ]
  },
  {
   "cell_type": "code",
   "execution_count": 9,
   "id": "41ef2a99-2f38-42f9-8666-875f99a231f3",
   "metadata": {},
   "outputs": [
    {
     "name": "stderr",
     "output_type": "stream",
     "text": [
      "[Stage 7:====================================================>     (9 + 1) / 10]\r"
     ]
    },
    {
     "name": "stdout",
     "output_type": "stream",
     "text": [
      "23/05/24 14:42:53 WARN MemoryManager: Total allocation exceeds 95.00% (1,020,054,720 bytes) of heap memory\n",
      "Scaling row group sizes to 95.00% for 8 writers\n",
      "23/05/24 14:42:53 WARN MemoryManager: Total allocation exceeds 95.00% (1,020,054,720 bytes) of heap memory\n",
      "Scaling row group sizes to 84.44% for 9 writers\n",
      "23/05/24 14:42:53 WARN MemoryManager: Total allocation exceeds 95.00% (1,020,054,720 bytes) of heap memory\n",
      "Scaling row group sizes to 76.00% for 10 writers\n"
     ]
    },
    {
     "name": "stderr",
     "output_type": "stream",
     "text": [
      "[Stage 9:>                                                        (0 + 10) / 10]\r"
     ]
    },
    {
     "name": "stdout",
     "output_type": "stream",
     "text": [
      "23/05/24 14:42:56 WARN MemoryManager: Total allocation exceeds 95.00% (1,020,054,720 bytes) of heap memory\n",
      "Scaling row group sizes to 84.44% for 9 writers\n",
      "23/05/24 14:42:56 WARN MemoryManager: Total allocation exceeds 95.00% (1,020,054,720 bytes) of heap memory\n",
      "Scaling row group sizes to 95.00% for 8 writers\n"
     ]
    },
    {
     "name": "stderr",
     "output_type": "stream",
     "text": [
      "                                                                                \r"
     ]
    }
   ],
   "source": [
    "#Save the partitioned dataframe as parquet file\n",
    "df.write.parquet(\"../partitions/yellow/2022/01/\")"
   ]
  },
  {
   "cell_type": "code",
   "execution_count": 10,
   "id": "59a60077-4d88-42da-9728-4245bce00b62",
   "metadata": {},
   "outputs": [],
   "source": [
    "sp_df = spark.read.parquet(\"../partitions/yellow/2022/01/\")"
   ]
  },
  {
   "cell_type": "code",
   "execution_count": 14,
   "id": "280202c4",
   "metadata": {},
   "outputs": [
    {
     "data": {
      "text/plain": [
       "pyspark.sql.dataframe.DataFrame"
      ]
     },
     "execution_count": 14,
     "metadata": {},
     "output_type": "execute_result"
    }
   ],
   "source": [
    "type(sp_df)"
   ]
  },
  {
   "cell_type": "code",
   "execution_count": 11,
   "id": "535ece00-6b31-4fe7-96b0-76989642cb09",
   "metadata": {},
   "outputs": [
    {
     "name": "stdout",
     "output_type": "stream",
     "text": [
      "root\n",
      " |-- VendorID: long (nullable = true)\n",
      " |-- tpep_pickup_datetime: timestamp (nullable = true)\n",
      " |-- tpep_dropoff_datetime: timestamp (nullable = true)\n",
      " |-- passenger_count: double (nullable = true)\n",
      " |-- trip_distance: double (nullable = true)\n",
      " |-- RatecodeID: double (nullable = true)\n",
      " |-- store_and_fwd_flag: string (nullable = true)\n",
      " |-- PULocationID: long (nullable = true)\n",
      " |-- DOLocationID: long (nullable = true)\n",
      " |-- payment_type: long (nullable = true)\n",
      " |-- fare_amount: double (nullable = true)\n",
      " |-- extra: double (nullable = true)\n",
      " |-- mta_tax: double (nullable = true)\n",
      " |-- tip_amount: double (nullable = true)\n",
      " |-- tolls_amount: double (nullable = true)\n",
      " |-- improvement_surcharge: double (nullable = true)\n",
      " |-- total_amount: double (nullable = true)\n",
      " |-- congestion_surcharge: double (nullable = true)\n",
      " |-- airport_fee: double (nullable = true)\n",
      "\n"
     ]
    }
   ],
   "source": [
    "sp_df.printSchema()"
   ]
  },
  {
   "cell_type": "code",
   "execution_count": 12,
   "id": "adca33d0",
   "metadata": {},
   "outputs": [
    {
     "name": "stdout",
     "output_type": "stream",
     "text": [
      "+--------------------+\n",
      "|tpep_pickup_datetime|\n",
      "+--------------------+\n",
      "| 2022-01-06 03:20:08|\n",
      "| 2022-01-19 20:05:25|\n",
      "| 2022-01-21 21:08:46|\n",
      "| 2022-01-12 16:38:33|\n",
      "| 2022-01-28 22:16:55|\n",
      "| 2022-01-05 02:08:23|\n",
      "| 2022-01-28 20:04:17|\n",
      "| 2022-01-09 19:14:32|\n",
      "| 2022-01-11 17:11:30|\n",
      "| 2022-01-15 00:51:41|\n",
      "| 2022-01-11 00:21:41|\n",
      "| 2022-01-06 00:53:02|\n",
      "| 2022-01-25 04:23:48|\n",
      "| 2022-01-28 02:38:50|\n",
      "| 2022-01-28 18:56:48|\n",
      "| 2022-01-08 15:51:10|\n",
      "| 2022-01-10 14:37:50|\n",
      "| 2022-01-29 01:46:58|\n",
      "| 2022-01-13 21:34:24|\n",
      "| 2022-01-10 07:22:38|\n",
      "+--------------------+\n",
      "only showing top 20 rows\n",
      "\n"
     ]
    }
   ],
   "source": []
  },
  {
   "cell_type": "code",
   "execution_count": 16,
   "id": "49334f49-d8a0-4592-9a96-1e00901980e1",
   "metadata": {},
   "outputs": [],
   "source": [
    "#Create the duration column by subtracting the dropoff time from the pickup time\n",
    "from pyspark.sql.functions import col, unix_timestamp, round\n",
    "\n",
    "sp_df = sp_df.withColumn(\"duration\", round((unix_timestamp(col(\"tpep_pickup_datetime\")) - unix_timestamp(col(\"tpep_dropoff_datetime\")))/60))"
   ]
  },
  {
   "cell_type": "code",
   "execution_count": 18,
   "id": "8d8763eb",
   "metadata": {},
   "outputs": [
    {
     "name": "stderr",
     "output_type": "stream",
     "text": [
      "[Stage 13:>                                                       (0 + 10) / 10]\r"
     ]
    },
    {
     "name": "stdout",
     "output_type": "stream",
     "text": [
      "+--------+\n",
      "|duration|\n",
      "+--------+\n",
      "|  3442.0|\n",
      "|   121.0|\n",
      "|     1.0|\n",
      "|     1.0|\n",
      "|     1.0|\n",
      "|     1.0|\n",
      "|     1.0|\n",
      "|     1.0|\n",
      "|     1.0|\n",
      "|     1.0|\n",
      "|     1.0|\n",
      "|     1.0|\n",
      "|     1.0|\n",
      "|     1.0|\n",
      "|     1.0|\n",
      "|     1.0|\n",
      "|     1.0|\n",
      "|     1.0|\n",
      "|     1.0|\n",
      "|     1.0|\n",
      "+--------+\n",
      "only showing top 20 rows\n",
      "\n"
     ]
    },
    {
     "name": "stderr",
     "output_type": "stream",
     "text": [
      "                                                                                \r"
     ]
    }
   ],
   "source": [
    "#Sort the dataframe by duration in descending order\n",
    "sp_df.select(\"duration\").sort(col(\"duration\").desc()).show()"
   ]
  },
  {
   "cell_type": "code",
   "execution_count": 19,
   "id": "e24996e3",
   "metadata": {},
   "outputs": [
    {
     "data": {
      "text/plain": [
       "2463931"
      ]
     },
     "execution_count": 19,
     "metadata": {},
     "output_type": "execute_result"
    }
   ],
   "source": [
    "#Count the number of row in duration column\n",
    "sp_df.select(\"duration\").count()"
   ]
  },
  {
   "cell_type": "code",
   "execution_count": 20,
   "id": "5a9c7e15",
   "metadata": {},
   "outputs": [
    {
     "data": {
      "text/plain": [
       "0"
      ]
     },
     "execution_count": 20,
     "metadata": {},
     "output_type": "execute_result"
    }
   ],
   "source": [
    "#Count the number of null values in duration column\n",
    "sp_df.select(\"duration\").filter(col(\"duration\").isNull()).count()"
   ]
  },
  {
   "cell_type": "code",
   "execution_count": 21,
   "id": "ca8362ac",
   "metadata": {},
   "outputs": [
    {
     "name": "stdout",
     "output_type": "stream",
     "text": [
      "+-------+-------------------+\n",
      "|summary|           duration|\n",
      "+-------+-------------------+\n",
      "|  count|            2463931|\n",
      "|   mean|-14.219502088329584|\n",
      "| stddev|   46.4466802662856|\n",
      "|    min|            -8513.0|\n",
      "|    max|             3442.0|\n",
      "+-------+-------------------+\n",
      "\n"
     ]
    }
   ],
   "source": [
    "#Display the distribution of duration column\n",
    "sp_df.select(\"duration\").describe().show()"
   ]
  },
  {
   "cell_type": "code",
   "execution_count": 22,
   "id": "89d53eda",
   "metadata": {},
   "outputs": [],
   "source": [
    "#Remove the outliers from the duration column which are not belong to the range of 1 to 60 minutes\n",
    "sp_df = sp_df.filter((col(\"duration\") >= 1) & (col(\"duration\") <= 60))\n"
   ]
  },
  {
   "cell_type": "code",
   "execution_count": 23,
   "id": "980369cf",
   "metadata": {},
   "outputs": [
    {
     "name": "stdout",
     "output_type": "stream",
     "text": [
      "+-------+--------+\n",
      "|summary|duration|\n",
      "+-------+--------+\n",
      "|  count|     364|\n",
      "|   mean|     1.0|\n",
      "| stddev|     0.0|\n",
      "|    min|     1.0|\n",
      "|    max|     1.0|\n",
      "+-------+--------+\n",
      "\n"
     ]
    }
   ],
   "source": [
    "#Display the distribution of duration column again\n",
    "sp_df.select(\"duration\").describe().show()"
   ]
  },
  {
   "attachments": {},
   "cell_type": "markdown",
   "id": "6451f800",
   "metadata": {},
   "source": [
    "This method doesn't work : filter not include duration less than 60mins\n",
    "      \"sp_df.filter((col(\"duration\") >= 1) & (col(\"duration\") <= 60))\""
   ]
  },
  {
   "cell_type": "code",
   "execution_count": 24,
   "id": "f091a71d",
   "metadata": {},
   "outputs": [],
   "source": [
    "sp_df2 = spark.read.parquet(\"../partitions/yellow/2022/01/\")"
   ]
  },
  {
   "cell_type": "code",
   "execution_count": 41,
   "id": "b11d461d",
   "metadata": {},
   "outputs": [
    {
     "name": "stdout",
     "output_type": "stream",
     "text": [
      "+-------+------------------+\n",
      "|summary|          duration|\n",
      "+-------+------------------+\n",
      "|  count|           2463931|\n",
      "|   mean|14.219502088329584|\n",
      "| stddev|  46.4466802662856|\n",
      "|    min|           -3442.0|\n",
      "|    max|            8513.0|\n",
      "+-------+------------------+\n",
      "\n"
     ]
    }
   ],
   "source": [
    "#Create the duration column by subtracting the dropoff time from the pickup time and convert it to minutes\n",
    "sp_df2 = sp_df2.withColumn(\"duration\", round((unix_timestamp(col(\"tpep_dropoff_datetime\")) - unix_timestamp(col(\"tpep_pickup_datetime\")))/60))\n",
    "\n",
    "#Display the distribution of duration column\n",
    "sp_df2.select(\"duration\").describe().show()\n"
   ]
  },
  {
   "cell_type": "code",
   "execution_count": 42,
   "id": "72cab2ab",
   "metadata": {},
   "outputs": [
    {
     "name": "stdout",
     "output_type": "stream",
     "text": [
      "+--------+--------------------+---------------------+---------------+-------------+----------+------------------+------------+------------+------------+-----------+-----+-------+----------+------------+---------------------+------------+--------------------+-----------+--------+\n",
      "|VendorID|tpep_pickup_datetime|tpep_dropoff_datetime|passenger_count|trip_distance|RatecodeID|store_and_fwd_flag|PULocationID|DOLocationID|payment_type|fare_amount|extra|mta_tax|tip_amount|tolls_amount|improvement_surcharge|total_amount|congestion_surcharge|airport_fee|duration|\n",
      "+--------+--------------------+---------------------+---------------+-------------+----------+------------------+------------+------------+------------+-----------+-----+-------+----------+------------+---------------------+------------+--------------------+-----------+--------+\n",
      "|       2| 2022-01-19 03:36:24|  2022-01-19 03:36:39|            1.0|          0.0|       1.0|                 N|         193|         193|           1|        2.5|  0.5|    0.5|      0.95|         0.0|                  0.3|        4.75|                 0.0|        0.0|     0.0|\n",
      "|       2| 2022-01-11 01:13:50|  2022-01-11 01:13:56|            4.0|          0.0|       5.0|                 N|         132|         132|           1|       75.0|  0.0|    0.0|     15.06|         0.0|                  0.3|       91.61|                 0.0|       1.25|     0.0|\n",
      "|       2| 2022-01-04 02:22:24|  2022-01-04 02:22:28|            1.0|          0.0|       5.0|                 N|         264|         264|           2|        6.0|  0.0|    0.0|       0.0|         0.0|                  0.3|         6.3|                 0.0|        0.0|     0.0|\n",
      "|       2| 2022-01-07 05:03:38|  2022-01-07 05:03:43|            1.0|         0.02|       1.0|                 N|         132|         132|           4|       -2.5| -0.5|   -0.5|       0.0|         0.0|                 -0.3|       -5.05|                 0.0|      -1.25|     0.0|\n",
      "|       2| 2022-01-22 21:58:21|  2022-01-22 21:58:25|            1.0|          0.0|       5.0|                 N|          69|          69|           1|       45.0|  0.0|    0.0|       0.0|         0.0|                  0.3|        45.3|                 0.0|        0.0|     0.0|\n",
      "|       1| 2022-01-31 14:25:17|  2022-01-31 14:25:39|            1.0|          0.0|       1.0|                 N|         132|         132|           3|        0.0|  0.0|    0.0|       0.0|         0.0|                  0.0|         0.0|                 0.0|        0.0|     0.0|\n",
      "|       1| 2022-01-27 22:20:22|  2022-01-27 23:24:10|            1.0|         17.0|       2.0|                 N|         233|         132|           2|       52.0|  2.5|    0.5|       0.0|        6.55|                  0.3|       61.85|                 2.5|        0.0|    64.0|\n",
      "|       6| 2022-01-21 00:01:00|  2022-01-21 01:01:47|           null|         11.4|      null|              null|         265|          28|           0|      38.18|  0.0|    0.5|       0.0|         0.0|                  0.3|       38.98|                null|       null|    61.0|\n",
      "|       1| 2022-01-02 16:47:38|  2022-01-02 16:47:49|            1.0|          0.0|       1.0|                 N|         141|         141|           4|        2.5|  2.5|    0.5|       0.0|         0.0|                  0.3|         5.8|                 2.5|        0.0|     0.0|\n",
      "|       6| 2022-01-06 19:01:16|  2022-01-06 19:01:14|           null|          1.6|      null|              null|         265|         142|           0|       29.2|  0.0|    0.5|       0.0|         0.0|                  0.3|        30.0|                null|       null|     0.0|\n",
      "|       6| 2022-01-13 16:01:24|  2022-01-13 16:01:47|           null|         3.24|      null|              null|         265|          41|           0|       15.2|  0.0|    0.5|       0.0|         0.0|                  0.3|        16.0|                null|       null|     0.0|\n",
      "|       2| 2022-01-28 17:23:23|  2022-01-28 18:25:13|            1.0|         4.17|       1.0|                 N|         142|          79|           2|       35.0|  0.0|    0.5|       0.0|         0.0|                  0.3|        38.3|                 2.5|        0.0|    62.0|\n",
      "|       1| 2022-01-09 08:28:46|  2022-01-09 08:28:52|            1.0|          0.0|       1.0|                 N|         164|         164|           1|        2.5|  3.0|    0.5|       6.0|         0.0|                  0.3|        12.3|                 2.5|        0.0|     0.0|\n",
      "|       1| 2022-01-04 15:28:48|  2022-01-04 15:29:02|            1.0|          0.0|       1.0|                 N|         145|         145|           2|        2.5|  0.0|    0.5|       0.0|         0.0|                  0.3|         3.3|                 0.0|        0.0|     0.0|\n",
      "|       2| 2022-01-11 20:50:56|  2022-01-11 20:51:02|            1.0|         0.06|       5.0|                 N|         132|         132|           1|       65.0|  0.0|    0.0|     13.06|         0.0|                  0.3|       78.36|                 0.0|        0.0|     0.0|\n",
      "|       2| 2022-01-30 18:12:02|  2022-01-31 18:07:01|            1.0|          2.1|       1.0|                 N|         186|          43|           2|        9.0|  0.0|    0.5|       0.0|         0.0|                  0.3|        12.3|                 2.5|        0.0|  1435.0|\n",
      "|       2| 2022-01-31 15:31:51|  2022-01-31 16:42:48|            1.0|        16.39|       2.0|                 N|         132|          48|           1|       52.0|  0.0|    0.5|       8.0|         0.0|                  0.3|       64.55|                 2.5|       1.25|    71.0|\n",
      "|       2| 2022-01-01 18:56:41|  2022-01-01 18:56:47|            1.0|          0.0|       5.0|                 N|          56|          56|           2|       39.0|  0.0|    0.5|       0.0|         0.0|                  0.3|        39.8|                 0.0|        0.0|     0.0|\n",
      "|       2| 2022-01-20 00:22:45|  2022-01-20 01:25:02|            1.0|        15.61|       2.0|                 N|         264|         132|           1|       52.0|  4.5|    0.5|     13.27|        6.55|                  0.3|       79.62|                 2.5|        0.0|    62.0|\n",
      "|       2| 2022-01-23 19:01:38|  2022-01-24 18:50:59|            5.0|         1.25|       1.0|                 N|         148|         231|           1|        8.5|  0.0|    0.5|       0.0|         0.0|                  0.3|        11.8|                 2.5|        0.0|  1429.0|\n",
      "+--------+--------------------+---------------------+---------------+-------------+----------+------------------+------------+------------+------------+-----------+-----+-------+----------+------------+---------------------+------------+--------------------+-----------+--------+\n",
      "only showing top 20 rows\n",
      "\n"
     ]
    }
   ],
   "source": [
    "#Count the number of data points which are not belong to the range of 1 to 60 minutes\n",
    "sp_df2.filter((col(\"duration\") < 1) | (col(\"duration\") > 60)).show()\n"
   ]
  },
  {
   "cell_type": "code",
   "execution_count": 43,
   "id": "5ce23c67",
   "metadata": {},
   "outputs": [
    {
     "data": {
      "text/plain": [
       "366"
      ]
     },
     "execution_count": 43,
     "metadata": {},
     "output_type": "execute_result"
    }
   ],
   "source": [
    "#Count the number of data points which are negative\n",
    "sp_df2.filter(col(\"duration\") < 0).count()"
   ]
  },
  {
   "cell_type": "code",
   "execution_count": 44,
   "id": "c3e58f5b",
   "metadata": {},
   "outputs": [
    {
     "data": {
      "text/plain": [
       "2429609"
      ]
     },
     "execution_count": 44,
     "metadata": {},
     "output_type": "execute_result"
    }
   ],
   "source": [
    "\n",
    "sp_df2.filter((col(\"duration\") <= 60) & (col(\"duration\") >= 1)).count()"
   ]
  },
  {
   "cell_type": "code",
   "execution_count": 45,
   "id": "355b2fef",
   "metadata": {},
   "outputs": [
    {
     "name": "stdout",
     "output_type": "stream",
     "text": [
      "+--------+\n",
      "|duration|\n",
      "+--------+\n",
      "|  8513.0|\n",
      "|  7891.0|\n",
      "|  7872.0|\n",
      "|  4284.0|\n",
      "|  4019.0|\n",
      "+--------+\n",
      "only showing top 5 rows\n",
      "\n"
     ]
    }
   ],
   "source": [
    "#sort the dataframe by duration in descending order and display the first 5 rows\n",
    "sp_df2.select(\"duration\").sort(col(\"duration\").desc()).show(5)\n"
   ]
  },
  {
   "cell_type": "code",
   "execution_count": 46,
   "id": "eb8d7e6d",
   "metadata": {},
   "outputs": [
    {
     "name": "stdout",
     "output_type": "stream",
     "text": [
      "+--------+\n",
      "|duration|\n",
      "+--------+\n",
      "| -3442.0|\n",
      "|  -121.0|\n",
      "|    -1.0|\n",
      "|    -1.0|\n",
      "|    -1.0|\n",
      "+--------+\n",
      "only showing top 5 rows\n",
      "\n"
     ]
    }
   ],
   "source": [
    "#sort the dataframe by duration in ascending order and display the first 5 rows\n",
    "sp_df2.select(\"duration\").sort(col(\"duration\").asc()).show(5)"
   ]
  },
  {
   "cell_type": "code",
   "execution_count": null,
   "id": "82fbcfd7",
   "metadata": {},
   "outputs": [],
   "source": []
  },
  {
   "cell_type": "code",
   "execution_count": null,
   "id": "c5c0fbf7",
   "metadata": {},
   "outputs": [],
   "source": []
  },
  {
   "cell_type": "code",
   "execution_count": null,
   "id": "de520435",
   "metadata": {},
   "outputs": [],
   "source": []
  },
  {
   "cell_type": "code",
   "execution_count": null,
   "id": "361321b9",
   "metadata": {},
   "outputs": [],
   "source": []
  },
  {
   "cell_type": "code",
   "execution_count": null,
   "id": "8bbdbfbc",
   "metadata": {},
   "outputs": [],
   "source": []
  }
 ],
 "metadata": {
  "kernelspec": {
   "display_name": "Python 3 (ipykernel)",
   "language": "python",
   "name": "python3"
  },
  "language_info": {
   "codemirror_mode": {
    "name": "ipython",
    "version": 3
   },
   "file_extension": ".py",
   "mimetype": "text/x-python",
   "name": "python",
   "nbconvert_exporter": "python",
   "pygments_lexer": "ipython3",
   "version": "3.10.6"
  }
 },
 "nbformat": 4,
 "nbformat_minor": 5
}
