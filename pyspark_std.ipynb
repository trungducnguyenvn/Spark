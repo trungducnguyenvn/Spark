{
 "cells": [
  {
   "cell_type": "code",
   "execution_count": 14,
   "id": "09e45053-024b-4faf-812c-93a79a91178e",
   "metadata": {},
   "outputs": [],
   "source": [
    "import pyspark\n",
    "from pyspark.sql import SparkSession\n",
    "from pyspark.sql import functions as F"
   ]
  },
  {
   "cell_type": "code",
   "execution_count": 2,
   "id": "35f0775a-cf4b-4d44-bd6d-a1ba0fe488ab",
   "metadata": {},
   "outputs": [
    {
     "name": "stdout",
     "output_type": "stream",
     "text": [
      "23/06/04 13:12:46 WARN Utils: Your hostname, Nguyen-Duc-Trung resolves to a loopback address: 127.0.1.1; using 192.168.130.52 instead (on interface eth0)\n",
      "23/06/04 13:12:46 WARN Utils: Set SPARK_LOCAL_IP if you need to bind to another address\n"
     ]
    },
    {
     "name": "stderr",
     "output_type": "stream",
     "text": [
      "Setting default log level to \"WARN\".\n",
      "To adjust logging level use sc.setLogLevel(newLevel). For SparkR, use setLogLevel(newLevel).\n"
     ]
    },
    {
     "name": "stdout",
     "output_type": "stream",
     "text": [
      "23/06/04 13:12:48 WARN NativeCodeLoader: Unable to load native-hadoop library for your platform... using builtin-java classes where applicable\n"
     ]
    }
   ],
   "source": [
    "spark = SparkSession.builder \\\n",
    "    .master(\"spark://Nguyen-Duc-Trung.:7077\") \\\n",
    "    .appName('Spark') \\\n",
    "    .getOrCreate()"
   ]
  },
  {
   "cell_type": "code",
   "execution_count": 4,
   "id": "8ffddca3-f0f1-4bd7-b336-0f7251c7462e",
   "metadata": {},
   "outputs": [
    {
     "name": "stderr",
     "output_type": "stream",
     "text": [
      "                                                                                \r"
     ]
    }
   ],
   "source": [
    "df_green = spark.read.parquet('../data/green/2020/*.parquet')"
   ]
  },
  {
   "cell_type": "code",
   "execution_count": 5,
   "id": "b36cacc4-9b65-4987-901f-9e698483fb59",
   "metadata": {},
   "outputs": [
    {
     "name": "stdout",
     "output_type": "stream",
     "text": [
      "root\n",
      " |-- VendorID: long (nullable = true)\n",
      " |-- lpep_pickup_datetime: timestamp (nullable = true)\n",
      " |-- lpep_dropoff_datetime: timestamp (nullable = true)\n",
      " |-- store_and_fwd_flag: string (nullable = true)\n",
      " |-- RatecodeID: double (nullable = true)\n",
      " |-- PULocationID: long (nullable = true)\n",
      " |-- DOLocationID: long (nullable = true)\n",
      " |-- passenger_count: double (nullable = true)\n",
      " |-- trip_distance: double (nullable = true)\n",
      " |-- fare_amount: double (nullable = true)\n",
      " |-- extra: double (nullable = true)\n",
      " |-- mta_tax: double (nullable = true)\n",
      " |-- tip_amount: double (nullable = true)\n",
      " |-- tolls_amount: double (nullable = true)\n",
      " |-- ehail_fee: integer (nullable = true)\n",
      " |-- improvement_surcharge: double (nullable = true)\n",
      " |-- total_amount: double (nullable = true)\n",
      " |-- payment_type: double (nullable = true)\n",
      " |-- trip_type: double (nullable = true)\n",
      " |-- congestion_surcharge: double (nullable = true)\n",
      "\n"
     ]
    }
   ],
   "source": [
    "df_green.printSchema()"
   ]
  },
  {
   "cell_type": "code",
   "execution_count": 6,
   "id": "de520435",
   "metadata": {},
   "outputs": [
    {
     "name": "stderr",
     "output_type": "stream",
     "text": [
      "[Stage 1:>                                                          (0 + 1) / 1]\r"
     ]
    },
    {
     "name": "stdout",
     "output_type": "stream",
     "text": [
      "+--------+--------------------+---------------------+------------------+----------+------------+------------+---------------+-------------+-----------+-----+-------+----------+------------+---------+---------------------+------------+------------+---------+--------------------+\n",
      "|VendorID|lpep_pickup_datetime|lpep_dropoff_datetime|store_and_fwd_flag|RatecodeID|PULocationID|DOLocationID|passenger_count|trip_distance|fare_amount|extra|mta_tax|tip_amount|tolls_amount|ehail_fee|improvement_surcharge|total_amount|payment_type|trip_type|congestion_surcharge|\n",
      "+--------+--------------------+---------------------+------------------+----------+------------+------------+---------------+-------------+-----------+-----+-------+----------+------------+---------+---------------------+------------+------------+---------+--------------------+\n",
      "|       2| 2019-12-18 22:52:30|  2019-12-18 22:54:39|                 N|       1.0|         264|         264|            5.0|          0.0|        3.5|  0.5|    0.5|      0.01|         0.0|     null|                  0.3|        4.81|         1.0|      1.0|                 0.0|\n",
      "|       2| 2020-01-01 07:45:58|  2020-01-01 07:56:39|                 N|       5.0|          66|          65|            2.0|         1.28|       20.0|  0.0|    0.0|      4.06|         0.0|     null|                  0.3|       24.36|         1.0|      2.0|                 0.0|\n",
      "|       2| 2020-01-01 07:41:38|  2020-01-01 07:52:49|                 N|       1.0|         181|         228|            1.0|         2.47|       10.5|  0.5|    0.5|      3.54|         0.0|     null|                  0.3|       15.34|         1.0|      1.0|                 0.0|\n",
      "|       1| 2020-01-01 07:52:46|  2020-01-01 08:14:21|                 N|       1.0|         129|         263|            2.0|          6.3|       21.0| 3.25|    0.5|       0.0|         0.0|     null|                  0.3|       25.05|         2.0|      1.0|                2.75|\n",
      "|       1| 2020-01-01 07:19:57|  2020-01-01 07:30:56|                 N|       1.0|         210|         150|            1.0|          2.3|       10.0|  0.5|    0.5|       0.0|         0.0|     null|                  0.3|        11.3|         1.0|      1.0|                 0.0|\n",
      "+--------+--------------------+---------------------+------------------+----------+------------+------------+---------------+-------------+-----------+-----+-------+----------+------------+---------+---------------------+------------+------------+---------+--------------------+\n",
      "only showing top 5 rows\n",
      "\n"
     ]
    },
    {
     "name": "stderr",
     "output_type": "stream",
     "text": [
      "                                                                                \r"
     ]
    }
   ],
   "source": [
    "df_green.show(5)"
   ]
  },
  {
   "cell_type": "code",
   "execution_count": 7,
   "id": "361321b9",
   "metadata": {},
   "outputs": [
    {
     "name": "stdout",
     "output_type": "stream",
     "text": [
      "root\n",
      " |-- VendorID: long (nullable = true)\n",
      " |-- tpep_pickup_datetime: timestamp (nullable = true)\n",
      " |-- tpep_dropoff_datetime: timestamp (nullable = true)\n",
      " |-- passenger_count: double (nullable = true)\n",
      " |-- trip_distance: double (nullable = true)\n",
      " |-- RatecodeID: double (nullable = true)\n",
      " |-- store_and_fwd_flag: string (nullable = true)\n",
      " |-- PULocationID: long (nullable = true)\n",
      " |-- DOLocationID: long (nullable = true)\n",
      " |-- payment_type: long (nullable = true)\n",
      " |-- fare_amount: double (nullable = true)\n",
      " |-- extra: double (nullable = true)\n",
      " |-- mta_tax: double (nullable = true)\n",
      " |-- tip_amount: double (nullable = true)\n",
      " |-- tolls_amount: double (nullable = true)\n",
      " |-- improvement_surcharge: double (nullable = true)\n",
      " |-- total_amount: double (nullable = true)\n",
      " |-- congestion_surcharge: double (nullable = true)\n",
      " |-- airport_fee: integer (nullable = true)\n",
      "\n"
     ]
    }
   ],
   "source": [
    "df_yellow = spark.read.parquet('../data/yellow/2020/*.parquet')\n",
    "df_yellow.printSchema()"
   ]
  },
  {
   "cell_type": "code",
   "execution_count": 8,
   "id": "8bbdbfbc",
   "metadata": {},
   "outputs": [],
   "source": [
    "#Change the column names : pickup_datetime, dropoff_datetime for the same columns in both dataframes \n",
    "df_green = df_green \\\n",
    "        .withColumnRenamed(\"lpep_pickup_datetime\", \"pickup_datetime\") \\\n",
    "        .withColumnRenamed(\"lpep_dropoff_datetime\", \"dropoff_datetime\")\n",
    "\n",
    "df_yellow = df_yellow \\\n",
    "        .withColumnRenamed(\"tpep_pickup_datetime\", \"pickup_datetime\") \\\n",
    "        .withColumnRenamed(\"tpep_dropoff_datetime\", \"dropoff_datetime\")"
   ]
  },
  {
   "cell_type": "code",
   "execution_count": 10,
   "id": "a8467a0b",
   "metadata": {},
   "outputs": [
    {
     "data": {
      "text/plain": [
       "(20, 19)"
      ]
     },
     "execution_count": 10,
     "metadata": {},
     "output_type": "execute_result"
    }
   ],
   "source": [
    "len(df_green.columns), len(df_yellow.columns)"
   ]
  },
  {
   "cell_type": "code",
   "execution_count": 9,
   "id": "5e39464d",
   "metadata": {},
   "outputs": [
    {
     "data": {
      "text/plain": [
       "{'ehail_fee', 'trip_type'}"
      ]
     },
     "execution_count": 9,
     "metadata": {},
     "output_type": "execute_result"
    }
   ],
   "source": [
    "#find which columns are different\n",
    "set(df_green.columns) - set(df_yellow.columns)"
   ]
  },
  {
   "cell_type": "code",
   "execution_count": 11,
   "id": "ac9d199d",
   "metadata": {},
   "outputs": [
    {
     "data": {
      "text/plain": [
       "{'airport_fee'}"
      ]
     },
     "execution_count": 11,
     "metadata": {},
     "output_type": "execute_result"
    }
   ],
   "source": [
    "set(df_yellow.columns) - set(df_green.columns)"
   ]
  },
  {
   "cell_type": "code",
   "execution_count": 12,
   "id": "a513c34c",
   "metadata": {},
   "outputs": [
    {
     "data": {
      "text/plain": [
       "{'DOLocationID',\n",
       " 'PULocationID',\n",
       " 'RatecodeID',\n",
       " 'VendorID',\n",
       " 'congestion_surcharge',\n",
       " 'dropoff_datetime',\n",
       " 'extra',\n",
       " 'fare_amount',\n",
       " 'improvement_surcharge',\n",
       " 'mta_tax',\n",
       " 'passenger_count',\n",
       " 'payment_type',\n",
       " 'pickup_datetime',\n",
       " 'store_and_fwd_flag',\n",
       " 'tip_amount',\n",
       " 'tolls_amount',\n",
       " 'total_amount',\n",
       " 'trip_distance'}"
      ]
     },
     "execution_count": 12,
     "metadata": {},
     "output_type": "execute_result"
    }
   ],
   "source": [
    "#Check the common columns between the two dataframes  \n",
    "set(df_green.columns).intersection(set(df_yellow.columns))"
   ]
  },
  {
   "cell_type": "code",
   "execution_count": 13,
   "id": "45b1e55e",
   "metadata": {},
   "outputs": [],
   "source": [
    "#create a list of common columns\n",
    "common_columns = list(set(df_green.columns).intersection(set(df_yellow.columns)))"
   ]
  },
  {
   "cell_type": "code",
   "execution_count": 15,
   "id": "1cadcf83",
   "metadata": {},
   "outputs": [],
   "source": [
    "#Add a new column to each dataframe to identify the company (yellow or green) : name column as service type\n",
    "df_green_sel = df_green \\\n",
    "        .select(common_columns) \\\n",
    "        .withColumn('service_type', F.lit('green'))\n",
    "\n",
    "df_yellow_sel = df_yellow \\\n",
    "        .select(common_columns) \\\n",
    "        .withColumn('service_type', F.lit('yellow'))"
   ]
  },
  {
   "cell_type": "code",
   "execution_count": 16,
   "id": "32b406e0",
   "metadata": {},
   "outputs": [],
   "source": [
    "#Combine the two dataframes into one\n",
    "df_trips = df_green_sel.unionAll(df_yellow_sel)"
   ]
  },
  {
   "cell_type": "code",
   "execution_count": 17,
   "id": "9c965c4e",
   "metadata": {},
   "outputs": [
    {
     "name": "stderr",
     "output_type": "stream",
     "text": [
      "[Stage 3:=====================================================>   (29 + 2) / 31]\r"
     ]
    },
    {
     "name": "stdout",
     "output_type": "stream",
     "text": [
      "+------------+--------+\n",
      "|service_type|   count|\n",
      "+------------+--------+\n",
      "|       green| 1734176|\n",
      "|      yellow|24649092|\n",
      "+------------+--------+\n",
      "\n"
     ]
    },
    {
     "name": "stderr",
     "output_type": "stream",
     "text": [
      "                                                                                \r"
     ]
    }
   ],
   "source": [
    "#Count the numbers of rows for each service type\n",
    "df_trips.groupBy('service_type').count().show()"
   ]
  },
  {
   "cell_type": "code",
   "execution_count": 18,
   "id": "c399fe3a",
   "metadata": {},
   "outputs": [],
   "source": [
    "#Create temporary view for the dataframe df_trips in order to use SQL queries\n",
    "df_trips.createOrReplaceTempView(\"trips_data\")"
   ]
  },
  {
   "cell_type": "code",
   "execution_count": 19,
   "id": "3c5ab602",
   "metadata": {},
   "outputs": [
    {
     "name": "stderr",
     "output_type": "stream",
     "text": [
      "[Stage 6:=====================================================>   (29 + 2) / 31]\r"
     ]
    },
    {
     "name": "stdout",
     "output_type": "stream",
     "text": [
      "+------------+--------+\n",
      "|service_type|   count|\n",
      "+------------+--------+\n",
      "|       green| 1734176|\n",
      "|      yellow|24649092|\n",
      "+------------+--------+\n",
      "\n"
     ]
    },
    {
     "name": "stderr",
     "output_type": "stream",
     "text": [
      "                                                                                \r"
     ]
    }
   ],
   "source": [
    "spark.sql(\"\"\"\n",
    "SELECT \n",
    "    service_type,\n",
    "    count(*) as count \n",
    "FROM \n",
    "    trips_data \n",
    "GROUP BY \n",
    "    service_type\"\"\") \\\n",
    ".show()"
   ]
  },
  {
   "cell_type": "code",
   "execution_count": 20,
   "id": "9cb6025b",
   "metadata": {},
   "outputs": [],
   "source": [
    "df_result = spark.sql(\"\"\"\n",
    "SELECT \n",
    "    -- Reveneue grouping \n",
    "    PULocationID AS revenue_zone, -- Rename PULocationID column to revenue_zone\n",
    "    date_trunc('month', pickup_datetime) AS revenue_month, -- Truncate pickup_datetime to month level\n",
    "    service_type, \n",
    "\n",
    "    -- Revenue calculation \n",
    "    SUM(fare_amount) AS revenue_monthly_fare, -- Calculate monthly fare revenue\n",
    "    SUM(extra) AS revenue_monthly_extra, -- Calculate monthly extra revenue\n",
    "    SUM(mta_tax) AS revenue_monthly_mta_tax, -- Calculate monthly MTA tax revenue\n",
    "    SUM(tip_amount) AS revenue_monthly_tip_amount, -- Calculate monthly tip revenue\n",
    "    SUM(tolls_amount) AS revenue_monthly_tolls_amount, -- Calculate monthly tolls revenue\n",
    "    SUM(improvement_surcharge) AS revenue_monthly_improvement_surcharge, -- Calculate monthly improvement surcharge revenue\n",
    "    SUM(total_amount) AS revenue_monthly_total_amount, -- Calculate monthly total revenue\n",
    "    SUM(congestion_surcharge) AS revenue_monthly_congestion_surcharge, -- Calculate monthly congestion surcharge revenue\n",
    "\n",
    "    -- Additional calculations\n",
    "    AVG(passenger_count) AS avg_montly_passenger_count, -- Calculate average monthly passenger count\n",
    "    AVG(trip_distance) AS avg_montly_trip_distance -- Calculate average monthly trip distance\n",
    "FROM\n",
    "    trips_data -- Select data from trips_data\n",
    "GROUP BY\n",
    "    1, 2, 3 -- Group results by revenue_zone, revenue_month, and service_type\n",
    "\"\"\")"
   ]
  },
  {
   "cell_type": "code",
   "execution_count": null,
   "id": "52ebc7f9",
   "metadata": {},
   "outputs": [],
   "source": [
    "##Check the type of df_result"
   ]
  },
  {
   "cell_type": "code",
   "execution_count": 21,
   "id": "d2658788",
   "metadata": {},
   "outputs": [
    {
     "name": "stderr",
     "output_type": "stream",
     "text": [
      "[Stage 9:=====================================================>   (29 + 2) / 31]\r"
     ]
    },
    {
     "name": "stdout",
     "output_type": "stream",
     "text": [
      "+------------+-------------------+------------+--------------------+---------------------+-----------------------+--------------------------+----------------------------+-------------------------------------+----------------------------+------------------------------------+--------------------------+------------------------+\n",
      "|revenue_zone|      revenue_month|service_type|revenue_monthly_fare|revenue_monthly_extra|revenue_monthly_mta_tax|revenue_monthly_tip_amount|revenue_monthly_tolls_amount|revenue_monthly_improvement_surcharge|revenue_monthly_total_amount|revenue_monthly_congestion_surcharge|avg_montly_passenger_count|avg_montly_trip_distance|\n",
      "+------------+-------------------+------------+--------------------+---------------------+-----------------------+--------------------------+----------------------------+-------------------------------------+----------------------------+------------------------------------+--------------------------+------------------------+\n",
      "|         120|2020-01-01 00:00:00|       green|              675.73|                 5.25|                    7.0|                     21.97|                       12.24|                    8.099999999999998|           735.7899999999998|                                 5.5|        1.1666666666666667|       4.773870967741937|\n",
      "|          82|2020-02-01 00:00:00|       green|  182273.22000000346|              8531.25|                 7508.5|         11217.70999999997|          1380.5999999999951|                    4746.300000001363|          216255.97999997713|                              646.25|        1.4281515349444807|       2.416850801172145|\n",
      "|          61|2020-02-01 00:00:00|       green|    69594.5100000005|              6036.75|                  897.0|        1005.2199999999999|           763.9400000000004|                    999.5999999999423|           79668.26999999842|                               123.5|         1.231809401159047|      3.5324703891709013|\n",
      "|          49|2020-01-01 00:00:00|       green|   57221.69000000019|               3434.0|                 1216.0|        2320.0099999999993|           545.9100000000004|                    975.5999999999434|           66482.90999999914|                              541.25|        1.1863782788771284|       3.541897852582717|\n",
      "|         229|2020-01-01 00:00:00|       green|  2104.4799999999996|                132.0|                    8.5|                       0.0|                       82.36|                   19.500000000000025|          2346.8399999999997|                                 0.0|                       1.0|       7.569848484848484|\n",
      "|          32|2020-01-01 00:00:00|       green|  16513.679999999964|              1120.75|                  113.0|         74.99999999999997|           902.1299999999998|                   176.10000000000096|           18906.50999999996|                                 5.5|        1.3095238095238095|       6.358454404945907|\n",
      "|          14|2020-01-01 00:00:00|       green|   43968.03999999996|               2535.5|                  343.0|                     257.0|           1264.779999999997|                    410.1000000000098|           48833.01999999992|                               74.25|         1.074585635359116|       6.869150823827628|\n",
      "|         128|2020-01-01 00:00:00|       green|  3261.3300000000004|                158.0|                   35.5|         82.25000000000001|          104.04000000000002|                    34.50000000000003|          3714.0200000000004|                                27.5|        1.0169491525423728|                 7.02328|\n",
      "|          47|2020-02-01 00:00:00|       green|  13777.300000000023|               1174.0|                  123.5|         66.65999999999998|           452.8500000000003|                   174.30000000000084|          15791.310000000003|                                11.0|         1.160337552742616|      4.6813461538461505|\n",
      "|          31|2020-02-01 00:00:00|       green|  1682.5600000000002|                 83.0|                   25.5|        107.82999999999998|           53.51999999999999|                   22.800000000000033|                     2002.71|                               30.25|        1.0526315789473684|       5.222682926829269|\n",
      "|           3|2020-02-01 00:00:00|       green|   9683.390000000014|               845.25|                   46.0|                      1.68|          426.87000000000023|                   104.99999999999936|          11118.989999999989|                                 0.0|        1.4583333333333333|        6.04520325203252|\n",
      "|         216|2020-02-01 00:00:00|       green|  19952.010000000068|               1261.5|                  110.5|        102.96000000000001|          430.37000000000035|                   196.20000000000164|          22060.990000000045|                                 5.5|        1.1807692307692308|       6.719897058823536|\n",
      "|         237|2020-02-01 00:00:00|       green|   2697.990000000001|                187.0|                    4.0|                       0.0|          103.52000000000001|                    21.00000000000003|          3013.5099999999998|                                 0.0|                       1.0|       9.661428571428573|\n",
      "|         222|2020-02-01 00:00:00|       green|   19495.53000000006|               1735.5|                   96.0|                     10.83|           527.0700000000003|                   176.10000000000093|           22041.03000000005|                                 0.0|        1.1714285714285715|      7.2664933135215515|\n",
      "|         155|2020-01-01 00:00:00|       green|   24840.86000000007|              1786.25|                  210.5|                      9.01|          429.11000000000024|                    253.8000000000039|          27531.480000000036|                                 0.0|         1.243421052631579|       5.494228855721392|\n",
      "|          28|2020-02-01 00:00:00|       green|            12186.73|               844.25|                   99.0|        107.81000000000002|          299.88000000000017|                   134.39999999999932|          13679.520000000024|                                 5.5|        1.2338308457711442|       5.838838174273858|\n",
      "|          63|2020-01-01 00:00:00|       green|  13832.649999999994|                819.5|                  104.5|                      3.56|          414.62000000000023|                    134.6999999999994|          15309.530000000008|                                 0.0|        1.0909090909090908|       6.186488095238089|\n",
      "|         244|2020-02-01 00:00:00|       green|  184399.38000000172|               6914.0|                 5089.0|        20090.329999999904|           3508.519999999973|                   3286.8000000005045|          231363.67999998527|                              9237.0|        1.3300858493296035|       4.284024029409136|\n",
      "|          97|2020-02-01 00:00:00|       green|  152063.27999999933|               7239.5|                 5304.0|        15902.429999999915|          409.97000000000025|                     3444.90000000058|           186854.8800000027|                             2650.75|          1.19713531850735|      2.7002208852599967|\n",
      "|         248|2020-01-01 00:00:00|       green|  11835.270000000026|                804.5|                  111.5|                    105.84|           541.3600000000004|                    142.7999999999997|          13552.620000000024|                                 5.5|        1.1893203883495145|       4.679119718309861|\n",
      "+------------+-------------------+------------+--------------------+---------------------+-----------------------+--------------------------+----------------------------+-------------------------------------+----------------------------+------------------------------------+--------------------------+------------------------+\n",
      "only showing top 20 rows\n",
      "\n"
     ]
    },
    {
     "name": "stderr",
     "output_type": "stream",
     "text": [
      "                                                                                \r"
     ]
    }
   ],
   "source": [
    "df_result.show()"
   ]
  },
  {
   "cell_type": "code",
   "execution_count": 22,
   "id": "c6511cac",
   "metadata": {},
   "outputs": [
    {
     "name": "stderr",
     "output_type": "stream",
     "text": [
      "                                                                                \r"
     ]
    }
   ],
   "source": [
    "#Write the dataframe to a parquet file \n",
    "df_result.coalesce(1).write.parquet('../data/report/revenue-2020', mode='overwrite')\n"
   ]
  },
  {
   "cell_type": "code",
   "execution_count": null,
   "id": "77efa670",
   "metadata": {},
   "outputs": [],
   "source": []
  },
  {
   "cell_type": "code",
   "execution_count": null,
   "id": "6d8e3c27",
   "metadata": {},
   "outputs": [],
   "source": []
  },
  {
   "cell_type": "code",
   "execution_count": null,
   "id": "0367c6d0",
   "metadata": {},
   "outputs": [],
   "source": []
  }
 ],
 "metadata": {
  "kernelspec": {
   "display_name": "Python 3 (ipykernel)",
   "language": "python",
   "name": "python3"
  }
 },
 "nbformat": 4,
 "nbformat_minor": 5
}
